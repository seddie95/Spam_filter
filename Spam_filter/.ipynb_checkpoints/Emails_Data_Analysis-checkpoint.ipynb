{
 "cells": [
  {
   "cell_type": "code",
   "execution_count": 2,
   "metadata": {},
   "outputs": [],
   "source": [
    "import os\n",
    "import pandas as pd\n",
    "from spacy import load\n",
    "from spacy.lang.en.stop_words import STOP_WORDS\n",
    "import string\n",
    "from sklearn.feature_extraction.text import CountVectorizer\n",
    "from sklearn.decomposition import LatentDirichletAllocation\n",
    "from matplotlib import pyplot as plt\n",
    "import pickle"
   ]
  },
  {
   "cell_type": "code",
   "execution_count": 11,
   "metadata": {},
   "outputs": [
    {
     "data": {
      "text/html": [
       "<div>\n",
       "<style scoped>\n",
       "    .dataframe tbody tr th:only-of-type {\n",
       "        vertical-align: middle;\n",
       "    }\n",
       "\n",
       "    .dataframe tbody tr th {\n",
       "        vertical-align: top;\n",
       "    }\n",
       "\n",
       "    .dataframe thead th {\n",
       "        text-align: right;\n",
       "    }\n",
       "</style>\n",
       "<table border=\"1\" class=\"dataframe\">\n",
       "  <thead>\n",
       "    <tr style=\"text-align: right;\">\n",
       "      <th></th>\n",
       "      <th>file</th>\n",
       "      <th>subject</th>\n",
       "      <th>subject_length</th>\n",
       "      <th>text</th>\n",
       "      <th>text_length</th>\n",
       "      <th>class</th>\n",
       "      <th>subject_stripped</th>\n",
       "      <th>text_stripped</th>\n",
       "      <th>subject_lemmatized</th>\n",
       "      <th>text_lemmatized</th>\n",
       "      <th>text_no_stops</th>\n",
       "      <th>subject_no_stops</th>\n",
       "      <th>topic_number</th>\n",
       "      <th>topic</th>\n",
       "    </tr>\n",
       "  </thead>\n",
       "  <tbody>\n",
       "    <tr>\n",
       "      <th>0</th>\n",
       "      <td>9-208msg1.txt</td>\n",
       "      <td>a workshop on text , speech and dialog ( tsd '...</td>\n",
       "      <td>52</td>\n",
       "      <td>first announcement and call for papers a works...</td>\n",
       "      <td>6327</td>\n",
       "      <td>0</td>\n",
       "      <td>a workshop on text  speech and dialog  tsd  98</td>\n",
       "      <td>first announcement and call for papers a works...</td>\n",
       "      <td>a workshop on text   speech and dialog   tsd   98</td>\n",
       "      <td>first announcement and call for paper a worksh...</td>\n",
       "      <td>announcement paper workshop text    speech dia...</td>\n",
       "      <td>workshop text    speech dialog    tsd    98</td>\n",
       "      <td>2</td>\n",
       "      <td>science</td>\n",
       "    </tr>\n",
       "    <tr>\n",
       "      <th>1</th>\n",
       "      <td>6-863msg1.txt</td>\n",
       "      <td>re : toc</td>\n",
       "      <td>9</td>\n",
       "      <td>dear colleague , i would like to send you the ...</td>\n",
       "      <td>1265</td>\n",
       "      <td>0</td>\n",
       "      <td>re  toc</td>\n",
       "      <td>dear colleague  i would like to send you the f...</td>\n",
       "      <td>re   toc</td>\n",
       "      <td>dear colleague   i would like to send -PRON- t...</td>\n",
       "      <td>dear colleague    like send -PRON- follow anno...</td>\n",
       "      <td>toc</td>\n",
       "      <td>1</td>\n",
       "      <td>language</td>\n",
       "    </tr>\n",
       "    <tr>\n",
       "      <th>2</th>\n",
       "      <td>spmsga152.txt</td>\n",
       "      <td>free internet services &amp; unique shopping</td>\n",
       "      <td>41</td>\n",
       "      <td>here 's a great directory for free and interes...</td>\n",
       "      <td>553</td>\n",
       "      <td>1</td>\n",
       "      <td>free internet services  unique shopping</td>\n",
       "      <td>here s a great directory for free and interest...</td>\n",
       "      <td>free internet service   unique shopping</td>\n",
       "      <td>here s a great directory for free and interest...</td>\n",
       "      <td>s great directory free interesting internet si...</td>\n",
       "      <td>free internet service    unique shopping</td>\n",
       "      <td>3</td>\n",
       "      <td>money</td>\n",
       "    </tr>\n",
       "    <tr>\n",
       "      <th>3</th>\n",
       "      <td>6-977msg1.txt</td>\n",
       "      <td>summary</td>\n",
       "      <td>8</td>\n",
       "      <td>dear all , i send you a summary of the answers...</td>\n",
       "      <td>6793</td>\n",
       "      <td>0</td>\n",
       "      <td>summary</td>\n",
       "      <td>dear all  i send you a summary of the answers ...</td>\n",
       "      <td>summary</td>\n",
       "      <td>dear all   i send -PRON- a summary of the answ...</td>\n",
       "      <td>dear    send -PRON- summary answer -PRON- quer...</td>\n",
       "      <td>summary</td>\n",
       "      <td>1</td>\n",
       "      <td>language</td>\n",
       "    </tr>\n",
       "    <tr>\n",
       "      <th>4</th>\n",
       "      <td>8-1096msg1.txt</td>\n",
       "      <td>summary : vowel deletion between two like cons...</td>\n",
       "      <td>53</td>\n",
       "      <td>quite some time ago , i wrote requesting infor...</td>\n",
       "      <td>5793</td>\n",
       "      <td>0</td>\n",
       "      <td>summary  vowel deletion between two like conso...</td>\n",
       "      <td>quite some time ago  i wrote requesting inform...</td>\n",
       "      <td>summary   vowel deletion between two like cons...</td>\n",
       "      <td>quite some time ago   i write request informat...</td>\n",
       "      <td>time ago    write request information concern ...</td>\n",
       "      <td>summary    vowel deletion like consonant</td>\n",
       "      <td>1</td>\n",
       "      <td>language</td>\n",
       "    </tr>\n",
       "  </tbody>\n",
       "</table>\n",
       "</div>"
      ],
      "text/plain": [
       "             file                                            subject  \\\n",
       "0   9-208msg1.txt  a workshop on text , speech and dialog ( tsd '...   \n",
       "1   6-863msg1.txt                                           re : toc   \n",
       "2   spmsga152.txt           free internet services & unique shopping   \n",
       "3   6-977msg1.txt                                            summary   \n",
       "4  8-1096msg1.txt  summary : vowel deletion between two like cons...   \n",
       "\n",
       "   subject_length                                               text  \\\n",
       "0              52  first announcement and call for papers a works...   \n",
       "1               9  dear colleague , i would like to send you the ...   \n",
       "2              41  here 's a great directory for free and interes...   \n",
       "3               8  dear all , i send you a summary of the answers...   \n",
       "4              53  quite some time ago , i wrote requesting infor...   \n",
       "\n",
       "   text_length  class                                   subject_stripped  \\\n",
       "0         6327      0     a workshop on text  speech and dialog  tsd  98   \n",
       "1         1265      0                                            re  toc   \n",
       "2          553      1            free internet services  unique shopping   \n",
       "3         6793      0                                            summary   \n",
       "4         5793      0  summary  vowel deletion between two like conso...   \n",
       "\n",
       "                                       text_stripped  \\\n",
       "0  first announcement and call for papers a works...   \n",
       "1  dear colleague  i would like to send you the f...   \n",
       "2  here s a great directory for free and interest...   \n",
       "3  dear all  i send you a summary of the answers ...   \n",
       "4  quite some time ago  i wrote requesting inform...   \n",
       "\n",
       "                                  subject_lemmatized  \\\n",
       "0  a workshop on text   speech and dialog   tsd   98   \n",
       "1                                           re   toc   \n",
       "2            free internet service   unique shopping   \n",
       "3                                            summary   \n",
       "4  summary   vowel deletion between two like cons...   \n",
       "\n",
       "                                     text_lemmatized  \\\n",
       "0  first announcement and call for paper a worksh...   \n",
       "1  dear colleague   i would like to send -PRON- t...   \n",
       "2  here s a great directory for free and interest...   \n",
       "3  dear all   i send -PRON- a summary of the answ...   \n",
       "4  quite some time ago   i write request informat...   \n",
       "\n",
       "                                       text_no_stops  \\\n",
       "0  announcement paper workshop text    speech dia...   \n",
       "1  dear colleague    like send -PRON- follow anno...   \n",
       "2  s great directory free interesting internet si...   \n",
       "3  dear    send -PRON- summary answer -PRON- quer...   \n",
       "4  time ago    write request information concern ...   \n",
       "\n",
       "                              subject_no_stops  topic_number     topic  \n",
       "0  workshop text    speech dialog    tsd    98             2   science  \n",
       "1                                          toc             1  language  \n",
       "2     free internet service    unique shopping             3     money  \n",
       "3                                      summary             1  language  \n",
       "4     summary    vowel deletion like consonant             1  language  "
      ]
     },
     "execution_count": 11,
     "metadata": {},
     "output_type": "execute_result"
    }
   ],
   "source": [
    "df = pd.read_csv('emails_cleaned.csv')\n",
    "df.head(5)"
   ]
  },
  {
   "cell_type": "markdown",
   "metadata": {},
   "source": [
    "# Analysis and Vizualisation of Data\n",
    "Below a small number of data analysis test will be carried out to provide some insight as to why emails are classified as either spam or ham.\n",
    "\n",
    "### Spam vs Ham"
   ]
  },
  {
   "cell_type": "code",
   "execution_count": 13,
   "metadata": {},
   "outputs": [
    {
     "data": {
      "text/plain": [
       "Text(0.5, 1.0, 'Count of Class')"
      ]
     },
     "execution_count": 13,
     "metadata": {},
     "output_type": "execute_result"
    },
    {
     "data": {
      "image/png": "[encoded data removed]",
      "text/plain": [
       "<Figure size 504x432 with 1 Axes>"
      ]
     },
     "metadata": {
      "needs_background": "light"
     },
     "output_type": "display_data"
    }
   ],
   "source": [
    "df['class'].value_counts().plot(kind='bar',figsize=(7, 6))\n",
    "plt.xlabel(\"Class\")\n",
    "plt.ylabel(\"Class Count\")\n",
    "plt.title(\"Count of Class\")"
   ]
  },
  {
   "cell_type": "markdown",
   "metadata": {},
   "source": [
    "The above graph shows that there is a large difference in the number of spam and ham emails with a large majority of the emails being ham. This may lead to a majority bias due to the inbalanced data. Test should be conducted to assess whethere this hypothesis is true and if so methods should be considered to alleviate this imbalance."
   ]
  },
  {
   "cell_type": "markdown",
   "metadata": {},
   "source": [
    "### Topic of Text to Ham and Spam"
   ]
  },
  {
   "cell_type": "code",
   "execution_count": 14,
   "metadata": {},
   "outputs": [
    {
     "data": {
      "text/plain": [
       "Text(0.5, 1.0, 'Count of Topics')"
      ]
     },
     "execution_count": 14,
     "metadata": {},
     "output_type": "execute_result"
    },
    {
     "data": {
      "image/png": "[encoded data removed]",
      "text/plain": [
       "<Figure size 504x432 with 1 Axes>"
      ]
     },
     "metadata": {
      "needs_background": "light"
     },
     "output_type": "display_data"
    }
   ],
   "source": [
    "df['topic'].value_counts().plot(kind='bar',figsize=(7, 6))\n",
    "plt.xlabel(\"Topic\")\n",
    "plt.ylabel(\"Topic Count\")\n",
    "plt.title(\"Count of Topics\")"
   ]
  },
  {
   "cell_type": "markdown",
   "metadata": {},
   "source": [
    "The syntax topic appeare the most while the web topic appears the least commonly. This graph can be seen as an example of Paretos law where by the first topic appears more commonly then when combining the least common features."
   ]
  },
  {
   "cell_type": "code",
   "execution_count": 53,
   "metadata": {},
   "outputs": [],
   "source": [
    "# Ham counts by topic\n",
    "ham_count = df.topic[df['class']==0].value_counts()\n",
    "\n",
    "# Spam counts by topic\n",
    "spam_count=df.topic[df['class']==1].value_counts()\n",
    "\n",
    "# Names of all topics\n",
    "topic_names=df.topic.unique()\n",
    "\n",
    "ham_values = []\n",
    "spam_values = []\n",
    "\n",
    "for i in topic_names:\n",
    "    if i in ham_count.keys():\n",
    "        ham_values.append(ham_count[i])\n",
    "    else:\n",
    "         ham_values.append(0)\n",
    "    \n",
    "    if i in spam_count.keys():\n",
    "        spam_values.append(spam_count[i])\n",
    "    else:\n",
    "         spam_values.append(0)  "
   ]
  },
  {
   "cell_type": "code",
   "execution_count": 58,
   "metadata": {},
   "outputs": [
    {
     "data": {
      "text/plain": [
       "<matplotlib.legend.Legend at 0x1d33a6ad7c8>"
      ]
     },
     "execution_count": 58,
     "metadata": {},
     "output_type": "execute_result"
    },
    {
     "data": {
      "image/png": "[encoded data removed]",
      "text/plain": [
       "<Figure size 648x504 with 1 Axes>"
      ]
     },
     "metadata": {
      "needs_background": "light"
     },
     "output_type": "display_data"
    }
   ],
   "source": [
    "# Grouped barchart for spam vs ham depending on topic\n",
    "width = 0.35\n",
    "x = np.arange(len(topic_names))  # the label locations\n",
    "\n",
    "fig,ax = plt.subplots()\n",
    "fig.set_size_inches(9,7)\n",
    "\n",
    "\n",
    "rects1 = ax.bar(x-width/2,ham_values,width,label='Ham')\n",
    "rects2 = ax.bar(x+width/2,spam_values,width,label='Spam')\n",
    "\n",
    "# Add some text for labels, title and custom x-axis tick labels, etc.\n",
    "ax.set_xlabel('Topic')\n",
    "ax.set_ylabel('Counts')\n",
    "ax.set_title('Topics Spam vs Ham ')\n",
    "ax.set_xticks(x)\n",
    "ax.set_xticklabels(topic_names)\n",
    "ax.legend()"
   ]
  },
  {
   "cell_type": "markdown",
   "metadata": {},
   "source": [
    "The above graph shows that there is a far larger number of ham emails than spam emails. Money is the only topic where the spam emails have a greater count than the ham emails."
   ]
  },
  {
   "cell_type": "markdown",
   "metadata": {},
   "source": [
    "## Length of text "
   ]
  },
  {
   "cell_type": "markdown",
   "metadata": {},
   "source": [
    "### Even size bins"
   ]
  },
  {
   "cell_type": "code",
   "execution_count": 174,
   "metadata": {},
   "outputs": [
    {
     "data": {
      "text/plain": [
       "<matplotlib.axes._subplots.AxesSubplot at 0x1d339f526c8>"
      ]
     },
     "execution_count": 174,
     "metadata": {},
     "output_type": "execute_result"
    },
    {
     "data": {
      "image/png": "[encoded data removed]",
      "text/plain": [
       "<Figure size 504x360 with 1 Axes>"
      ]
     },
     "metadata": {
      "needs_background": "light"
     },
     "output_type": "display_data"
    }
   ],
   "source": [
    "# Add the lengths of text to  a set of bins\n",
    "bins=[0,5000,10000,15000,20000,25000,30000]\n",
    "group_names =['0-5k','5K-10k','10k-15k','15k-20k','20k-25k','25k-30k']\n",
    "\n",
    "df['length_bins'] =pd.cut(df['text_length'],bins,labels=group_names)\n",
    "df['length_bins'].value_counts(dropna=False).plot(kind='bar', title=\"length_bins_10\", figsize=(7,5))"
   ]
  },
  {
   "cell_type": "markdown",
   "metadata": {},
   "source": [
    "The majority of emails are short with less than 5,000 characters. "
   ]
  },
  {
   "cell_type": "markdown",
   "metadata": {},
   "source": [
    "Both spam and ham emails tend to have fewer than 5,000 characters which suggest that the total number of character is not a useful metric for assessing whether an email is spam or ham."
   ]
  },
  {
   "cell_type": "code",
   "execution_count": 175,
   "metadata": {},
   "outputs": [],
   "source": [
    " # Store the values in a dictionary\n",
    "mail_dict ={'class':['Spam','Ham'],\n",
    "                  '0-5k':[],\n",
    "                  '5K-10k':[],\n",
    "                  '10k-15k':[],\n",
    "                  '15k-20k':[],\n",
    "                  '20k-25k':[],\n",
    "                  '25k-30k':[]\n",
    "               }"
   ]
  },
  {
   "cell_type": "code",
   "execution_count": 176,
   "metadata": {},
   "outputs": [],
   "source": [
    "\n",
    "def character_count(mail_dict):\n",
    "    # Ham counts by topic\n",
    "    ham_bins = df.length_bins[df['class']==0].value_counts()\n",
    "    \n",
    "    # Spam counts by topic\n",
    "    spam_bins =df.length_bins[df['class']==1].value_counts()\n",
    "\n",
    "    # Obtain the total number of spam emails\n",
    "    spam_size=df.length_bins[df['class']==1].size\n",
    "\n",
    "    # Obtain the total number of ham emails\n",
    "    ham_size=df.length_bins[df['class']==0].size\n",
    "\n",
    "\n",
    "    for key,val in spam_bins.items():\n",
    "        mail_dict[key].append(round(val/spam_size,3))\n",
    "\n",
    "    for key,val in ham_bins.items():\n",
    "        mail_dict[key].append(round(val/ham_size,3))\n",
    "\n",
    "    return pd.DataFrame.from_dict(mail_dict)"
   ]
  },
  {
   "cell_type": "code",
   "execution_count": 177,
   "metadata": {},
   "outputs": [
    {
     "data": {
      "text/html": [
       "<div>\n",
       "<style scoped>\n",
       "    .dataframe tbody tr th:only-of-type {\n",
       "        vertical-align: middle;\n",
       "    }\n",
       "\n",
       "    .dataframe tbody tr th {\n",
       "        vertical-align: top;\n",
       "    }\n",
       "\n",
       "    .dataframe thead th {\n",
       "        text-align: right;\n",
       "    }\n",
       "</style>\n",
       "<table border=\"1\" class=\"dataframe\">\n",
       "  <thead>\n",
       "    <tr style=\"text-align: right;\">\n",
       "      <th></th>\n",
       "      <th>class</th>\n",
       "      <th>0-5k</th>\n",
       "      <th>5K-10k</th>\n",
       "      <th>10k-15k</th>\n",
       "      <th>15k-20k</th>\n",
       "      <th>20k-25k</th>\n",
       "      <th>25k-30k</th>\n",
       "    </tr>\n",
       "  </thead>\n",
       "  <tbody>\n",
       "    <tr>\n",
       "      <th>0</th>\n",
       "      <td>Spam</td>\n",
       "      <td>0.748</td>\n",
       "      <td>0.170</td>\n",
       "      <td>0.012</td>\n",
       "      <td>0.048</td>\n",
       "      <td>0.010</td>\n",
       "      <td>0.010</td>\n",
       "    </tr>\n",
       "    <tr>\n",
       "      <th>1</th>\n",
       "      <td>Ham</td>\n",
       "      <td>0.815</td>\n",
       "      <td>0.136</td>\n",
       "      <td>0.036</td>\n",
       "      <td>0.011</td>\n",
       "      <td>0.002</td>\n",
       "      <td>0.001</td>\n",
       "    </tr>\n",
       "  </tbody>\n",
       "</table>\n",
       "</div>"
      ],
      "text/plain": [
       "  class   0-5k  5K-10k  10k-15k  15k-20k  20k-25k  25k-30k\n",
       "0  Spam  0.748   0.170    0.012    0.048    0.010    0.010\n",
       "1   Ham  0.815   0.136    0.036    0.011    0.002    0.001"
      ]
     },
     "execution_count": 177,
     "metadata": {},
     "output_type": "execute_result"
    }
   ],
   "source": [
    "mail = character_count(mail_dict)\n",
    "mail"
   ]
  },
  {
   "cell_type": "code",
   "execution_count": 178,
   "metadata": {},
   "outputs": [
    {
     "data": {
      "text/plain": [
       "0    0.918\n",
       "1    0.951\n",
       "dtype: float64"
      ]
     },
     "execution_count": 178,
     "metadata": {},
     "output_type": "execute_result"
    }
   ],
   "source": [
    "mail['0-5k'] + mail['5K-10k']\n"
   ]
  },
  {
   "cell_type": "markdown",
   "metadata": {},
   "source": [
    "Over 90% of both spam and ham emails are less than 10,000 Characters. In order to get a better picture more bins will be created with values less than this figure to assess whether the number of characters impact the ouutcome."
   ]
  },
  {
   "cell_type": "markdown",
   "metadata": {},
   "source": [
    "### Uneven size bins"
   ]
  },
  {
   "cell_type": "code",
   "execution_count": 179,
   "metadata": {},
   "outputs": [
    {
     "data": {
      "text/plain": [
       "<matplotlib.axes._subplots.AxesSubplot at 0x1d33a61c108>"
      ]
     },
     "execution_count": 179,
     "metadata": {},
     "output_type": "execute_result"
    },
    {
     "data": {
      "image/png": "[encoded data removed]",
      "text/plain": [
       "<Figure size 504x360 with 1 Axes>"
      ]
     },
     "metadata": {
      "needs_background": "light"
     },
     "output_type": "display_data"
    }
   ],
   "source": [
    "# Add the lengths of text to  a set of bins\n",
    "bins=[0,1000,2000,3000,4000,5000,10000,30000]\n",
    "group_names =['0-1k','1K-2k','2k-3k','3k-4k','4k-5k','5k-10k','10k-30k']\n",
    "\n",
    "df['length_bins'] =pd.cut(df['text_length'],bins,labels=group_names)\n",
    "df['length_bins'].value_counts(dropna=False).plot(kind='bar', title=\"length_bins_10\", figsize=(7,5))"
   ]
  },
  {
   "cell_type": "code",
   "execution_count": 180,
   "metadata": {},
   "outputs": [],
   "source": [
    " # Store the values in a dictionary\n",
    "mail_dict ={'class':['Spam','Ham'],\n",
    "              '0-1k':[],\n",
    "              '1K-2k':[],\n",
    "              '2k-3k':[],\n",
    "              '3k-4k':[],\n",
    "              '4k-5k':[],\n",
    "              '5k-10k':[],\n",
    "              '10k-30k':[]\n",
    "           }"
   ]
  },
  {
   "cell_type": "code",
   "execution_count": 181,
   "metadata": {},
   "outputs": [
    {
     "data": {
      "text/html": [
       "<div>\n",
       "<style scoped>\n",
       "    .dataframe tbody tr th:only-of-type {\n",
       "        vertical-align: middle;\n",
       "    }\n",
       "\n",
       "    .dataframe tbody tr th {\n",
       "        vertical-align: top;\n",
       "    }\n",
       "\n",
       "    .dataframe thead th {\n",
       "        text-align: right;\n",
       "    }\n",
       "</style>\n",
       "<table border=\"1\" class=\"dataframe\">\n",
       "  <thead>\n",
       "    <tr style=\"text-align: right;\">\n",
       "      <th></th>\n",
       "      <th>class</th>\n",
       "      <th>0-1k</th>\n",
       "      <th>1K-2k</th>\n",
       "      <th>2k-3k</th>\n",
       "      <th>3k-4k</th>\n",
       "      <th>4k-5k</th>\n",
       "      <th>5k-10k</th>\n",
       "      <th>10k-30k</th>\n",
       "    </tr>\n",
       "  </thead>\n",
       "  <tbody>\n",
       "    <tr>\n",
       "      <th>0</th>\n",
       "      <td>Spam</td>\n",
       "      <td>0.364</td>\n",
       "      <td>0.179</td>\n",
       "      <td>0.102</td>\n",
       "      <td>0.062</td>\n",
       "      <td>0.042</td>\n",
       "      <td>0.170</td>\n",
       "      <td>0.081</td>\n",
       "    </tr>\n",
       "    <tr>\n",
       "      <th>1</th>\n",
       "      <td>Ham</td>\n",
       "      <td>0.241</td>\n",
       "      <td>0.246</td>\n",
       "      <td>0.167</td>\n",
       "      <td>0.102</td>\n",
       "      <td>0.059</td>\n",
       "      <td>0.136</td>\n",
       "      <td>0.049</td>\n",
       "    </tr>\n",
       "  </tbody>\n",
       "</table>\n",
       "</div>"
      ],
      "text/plain": [
       "  class   0-1k  1K-2k  2k-3k  3k-4k  4k-5k  5k-10k  10k-30k\n",
       "0  Spam  0.364  0.179  0.102  0.062  0.042   0.170    0.081\n",
       "1   Ham  0.241  0.246  0.167  0.102  0.059   0.136    0.049"
      ]
     },
     "execution_count": 181,
     "metadata": {},
     "output_type": "execute_result"
    }
   ],
   "source": [
    "mail_new = character_count(mail_dict)\n",
    "mail_new"
   ]
  },
  {
   "cell_type": "code",
   "execution_count": 191,
   "metadata": {},
   "outputs": [
    {
     "name": "stdout",
     "output_type": "stream",
     "text": [
      "Average text length: 3230.0\n",
      "Average Ham text length: 3123.0\n",
      "Average Spam text length: 3768.0\n"
     ]
    }
   ],
   "source": [
    "print(f\"Average text length: {round(df['text_length'].mean(),0)}\")\n",
    "print(f\"Average Ham text length: {round(df.text_length[df['class']==0].mean(),0)}\")\n",
    "print(f\"Average Spam text length: {round(df.text_length[df['class']==1].mean(),0)}\")"
   ]
  },
  {
   "cell_type": "markdown",
   "metadata": {},
   "source": [
    "The above table shows that the majority of emails are less than 1,0000 characters long, with spam emails tending to be on average slighlly longer than ham emails."
   ]
  },
  {
   "cell_type": "markdown",
   "metadata": {},
   "source": [
    "## Named Entity Recognition"
   ]
  },
  {
   "cell_type": "code",
   "execution_count": 212,
   "metadata": {},
   "outputs": [
    {
     "data": {
      "text/plain": [
       "'i direct this query to those more in the know : there is a producer in bbc wales ( the base for the orchestra i work for ) who is looking to produce a programme discussing the internet and the like with reference to the welsh language / culture . i have been able to find plenty of references to scots and irish traditions , but only one reference to welsh in patagonia . please respond to : jeremy garside - bbc national orchestra of wales garsij @ wales . bbc . co . uk'"
      ]
     },
     "execution_count": 212,
     "metadata": {},
     "output_type": "execute_result"
    }
   ],
   "source": [
    "text1 = df['text'][1501]\n",
    "text1"
   ]
  },
  {
   "cell_type": "code",
   "execution_count": 217,
   "metadata": {},
   "outputs": [
    {
     "data": {
      "text/plain": [
       "{}"
      ]
     },
     "execution_count": 217,
     "metadata": {},
     "output_type": "execute_result"
    }
   ],
   "source": [
    "nlp = load('en_core_web_sm')\n",
    "doc = nlp(text1)\n",
    "entities_dict = dict()\n",
    "for ent in doc.ents:\n",
    "    print(ent.text,ent.label_)\n",
    "    if ent.label_ in entities_dict:\n",
    "        entities_dict[ent.label_] +=1\n",
    "    else:\n",
    "        entities_dict[ent.label_] =1\n",
    "entities_dict  "
   ]
  },
  {
   "cell_type": "markdown",
   "metadata": {},
   "source": [
    "When Named entity recognition is run on the above piece of text no entities are identified even though numerous exists. This can be attributed to the lack of capitalization of words."
   ]
  },
  {
   "cell_type": "code",
   "execution_count": 219,
   "metadata": {},
   "outputs": [
    {
     "name": "stdout",
     "output_type": "stream",
     "text": [
      "BBC Wales ORG\n",
      "one CARDINAL\n",
      "Welsh GPE\n",
      "Patagonia GPE\n"
     ]
    },
    {
     "data": {
      "text/plain": [
       "{'ORG': 1, 'CARDINAL': 1, 'GPE': 2}"
      ]
     },
     "execution_count": 219,
     "metadata": {},
     "output_type": "execute_result"
    }
   ],
   "source": [
    "doc = nlp('there is a producer in BBC Wales,but only one reference to Welsh in Patagonia ')\n",
    "entities_dict = dict()\n",
    "for ent in doc.ents:\n",
    "    print(ent.text,ent.label_)\n",
    "    if ent.label_ in entities_dict:\n",
    "        entities_dict[ent.label_] +=1\n",
    "    else:\n",
    "        entities_dict[ent.label_] =1\n",
    "entities_dict  "
   ]
  },
  {
   "cell_type": "markdown",
   "metadata": {},
   "source": [
    "When some of the words have been capitalized and set to uppercase spacy is able to recognise a greater number of entities. As all of the text has been cast to lowercase it does provide much information in relation to the type of entities and how certain entities might have an influence over whether an email is spam or ham."
   ]
  },
  {
   "cell_type": "markdown",
   "metadata": {},
   "source": [
    "## Final Say\n",
    "The length of text provides very little information as to why an email is spam or ham. While the topic modelling shows evidence to suggest that emails that contain refference to **Money** are more likely to be classified as spam than ham."
   ]
  },
  {
   "cell_type": "code",
   "execution_count": null,
   "metadata": {},
   "outputs": [],
   "source": []
  },
  {
   "cell_type": "code",
   "execution_count": null,
   "metadata": {},
   "outputs": [],
   "source": []
  }
 ],
 "metadata": {
  "kernelspec": {
   "display_name": "Python 3",
   "language": "python",
   "name": "python3"
  },
  "language_info": {
   "codemirror_mode": {
    "name": "ipython",
    "version": 3
   },
   "file_extension": ".py",
   "mimetype": "text/x-python",
   "name": "python",
   "nbconvert_exporter": "python",
   "pygments_lexer": "ipython3",
   "version": "3.7.9"
  }
 },
 "nbformat": 4,
 "nbformat_minor": 4
}
