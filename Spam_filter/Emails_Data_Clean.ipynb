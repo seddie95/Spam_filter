{
 "cells": [
  {
   "cell_type": "code",
   "execution_count": 1,
   "metadata": {},
   "outputs": [],
   "source": [
    "import os\n",
    "import pandas as pd\n",
    "from spacy import load\n",
    "import string\n",
    "from sklearn.feature_extraction.text import CountVectorizer\n",
    "from sklearn.decomposition import LatentDirichletAllocation\n",
    "from matplotlib import pyplot as plt\n",
    "import pickle"
   ]
  },
  {
   "cell_type": "markdown",
   "metadata": {},
   "source": [
    "## Read in the files into a dataframe"
   ]
  },
  {
   "cell_type": "code",
   "execution_count": 2,
   "metadata": {},
   "outputs": [],
   "source": [
    "# set the path to the folder with all of the text files\n",
    "path = '../emails'\n",
    "\n",
    "# obtain a list of all files in the path\n",
    "file_list = os.listdir(path)"
   ]
  },
  {
   "cell_type": "code",
   "execution_count": 3,
   "metadata": {},
   "outputs": [],
   "source": [
    "# empty dictionary to store the text file contents\n",
    "email_dict = dict()\n",
    "email_dict['file'] =[]\n",
    "email_dict['subject'] =[]\n",
    "email_dict['subject_length'] =[]\n",
    "email_dict['text'] =[]\n",
    "email_dict['text_length'] =[]\n",
    "email_dict['class'] =[]\n",
    "\n",
    "\n",
    "# loop over files and read their contents\n",
    "for file in file_list:\n",
    "    file_path = os.path.join(path,file)\n",
    "    email_dict['file'].append(file)\n",
    "    \n",
    "    # check whether classified as ham or spam\n",
    "    if file.startswith('spms'):\n",
    "        email_dict['class'].append(1)\n",
    "    else:\n",
    "        email_dict['class'].append(0)\n",
    "    \n",
    "    # Store the contents of the file as list items\n",
    "    with open(file_path,'r')as f:\n",
    "        subject = f.readlines()[0].split(' ', 1)[1].lower()\n",
    "        f.seek(0)\n",
    "        text = f.readlines()[2:][0]\n",
    "        email_dict['subject'].append(subject)\n",
    "        email_dict['text'].append(text)\n",
    "        email_dict['text_length'].append(len(text))\n",
    "        email_dict['subject_length'].append(len(subject))\n",
    "    \n",
    "    "
   ]
  },
  {
   "cell_type": "code",
   "execution_count": 4,
   "metadata": {},
   "outputs": [
    {
     "data": {
      "text/html": [
       "<div>\n",
       "<style scoped>\n",
       "    .dataframe tbody tr th:only-of-type {\n",
       "        vertical-align: middle;\n",
       "    }\n",
       "\n",
       "    .dataframe tbody tr th {\n",
       "        vertical-align: top;\n",
       "    }\n",
       "\n",
       "    .dataframe thead th {\n",
       "        text-align: right;\n",
       "    }\n",
       "</style>\n",
       "<table border=\"1\" class=\"dataframe\">\n",
       "  <thead>\n",
       "    <tr style=\"text-align: right;\">\n",
       "      <th></th>\n",
       "      <th>file</th>\n",
       "      <th>subject</th>\n",
       "      <th>subject_length</th>\n",
       "      <th>text</th>\n",
       "      <th>text_length</th>\n",
       "      <th>class</th>\n",
       "    </tr>\n",
       "  </thead>\n",
       "  <tbody>\n",
       "    <tr>\n",
       "      <th>0</th>\n",
       "      <td>9-208msg1.txt</td>\n",
       "      <td>a workshop on text , speech and dialog ( tsd '...</td>\n",
       "      <td>52</td>\n",
       "      <td>first announcement and call for papers a works...</td>\n",
       "      <td>6327</td>\n",
       "      <td>0</td>\n",
       "    </tr>\n",
       "    <tr>\n",
       "      <th>1</th>\n",
       "      <td>6-863msg1.txt</td>\n",
       "      <td>re : toc</td>\n",
       "      <td>9</td>\n",
       "      <td>dear colleague , i would like to send you the ...</td>\n",
       "      <td>1265</td>\n",
       "      <td>0</td>\n",
       "    </tr>\n",
       "    <tr>\n",
       "      <th>2</th>\n",
       "      <td>spmsga152.txt</td>\n",
       "      <td>free internet services &amp; unique shopping</td>\n",
       "      <td>41</td>\n",
       "      <td>here 's a great directory for free and interes...</td>\n",
       "      <td>553</td>\n",
       "      <td>1</td>\n",
       "    </tr>\n",
       "    <tr>\n",
       "      <th>3</th>\n",
       "      <td>6-977msg1.txt</td>\n",
       "      <td>summary</td>\n",
       "      <td>8</td>\n",
       "      <td>dear all , i send you a summary of the answers...</td>\n",
       "      <td>6793</td>\n",
       "      <td>0</td>\n",
       "    </tr>\n",
       "    <tr>\n",
       "      <th>4</th>\n",
       "      <td>8-1096msg1.txt</td>\n",
       "      <td>summary : vowel deletion between two like cons...</td>\n",
       "      <td>53</td>\n",
       "      <td>quite some time ago , i wrote requesting infor...</td>\n",
       "      <td>5793</td>\n",
       "      <td>0</td>\n",
       "    </tr>\n",
       "  </tbody>\n",
       "</table>\n",
       "</div>"
      ],
      "text/plain": [
       "             file                                            subject  \\\n",
       "0   9-208msg1.txt  a workshop on text , speech and dialog ( tsd '...   \n",
       "1   6-863msg1.txt                                           re : toc   \n",
       "2   spmsga152.txt           free internet services & unique shopping   \n",
       "3   6-977msg1.txt                                            summary   \n",
       "4  8-1096msg1.txt  summary : vowel deletion between two like cons...   \n",
       "\n",
       "   subject_length                                               text  \\\n",
       "0              52  first announcement and call for papers a works...   \n",
       "1               9  dear colleague , i would like to send you the ...   \n",
       "2              41  here 's a great directory for free and interes...   \n",
       "3               8  dear all , i send you a summary of the answers...   \n",
       "4              53  quite some time ago , i wrote requesting infor...   \n",
       "\n",
       "   text_length  class  \n",
       "0         6327      0  \n",
       "1         1265      0  \n",
       "2          553      1  \n",
       "3         6793      0  \n",
       "4         5793      0  "
      ]
     },
     "execution_count": 4,
     "metadata": {},
     "output_type": "execute_result"
    }
   ],
   "source": [
    "# Create a dataframe 'df' containing the content from 'email_dict'\n",
    "df = pd.DataFrame.from_dict(email_dict)\n",
    "\n",
    "# Replace any newlines with empty strings\n",
    "df = df.replace(r'\\n','', regex=True) \n",
    "\n",
    "# randomly shuffle select only 0.3\n",
    "df = df.sample(frac=1,random_state=42).reset_index(drop=True)\n",
    "df.to_csv('emails.csv', index=False)\n",
    "df.head()"
   ]
  },
  {
   "cell_type": "code",
   "execution_count": 5,
   "metadata": {},
   "outputs": [
    {
     "data": {
      "text/plain": [
       "(2893, 6)"
      ]
     },
     "execution_count": 5,
     "metadata": {},
     "output_type": "execute_result"
    }
   ],
   "source": [
    "df.shape"
   ]
  },
  {
   "cell_type": "code",
   "execution_count": 6,
   "metadata": {},
   "outputs": [
    {
     "data": {
      "text/plain": [
       "'first announcement and call for papers a workshop on text , speech and dialog ( tsd \\' 98 ) brno , czech republic , 23-26 september 1998 the workshop is organized by the faculty of informatics , masaryk university , brno , and the faculty of applied sciences , university of west bohemia , pilsen , under the auspices of the dean of the faculty of informatics of masaryk university . please visit the workshop \\'s homepage : http : / / www . fi . muni . cz / tsd98 / venue brno , czech republic topics tsd \\' 98 will be concerned with topics in the field of natural language processing , in particular : - corpora , texts and transcription - speech analysis , recognition and synthesis - their intertwining within nl dialog systems . topics of the workshop will include ( but are not limited to ) : - text corpora and tagging - transcription problems in spoken corpora - sense disambiguation - links between text and speech oriented systems - parsing issues , especially parsing problems in spoken texts - multilingual issues , especially multilingual dialog systems - information retrieval and text / topic summarization - speech modeling - speech segmentation - speech recognition - text - to-speech synthesis - dialog systems - development of dialog strategies - assistive technologies based on speech and dialog - applied systems and software program committee baudoin genevieve ( france ) ferencz attila ( romania ) hanks patrick ( great britain , chair ) hermansky hynek ( usa ) kopecek ivan ( czech republic ) matousek vaclav ( czech republic ) mueller johannes ( germany ) noeth elmar ( germany ) pala karel ( czech republic ) pavesic nikola ( slovenia ) schukat - talamazzini e . guenter ( germany ) skrelin pavel ( russia ) organizing committee bartek ludek batusek robert komarkova dana ( secretary ) e-mail : dkomar @ fi . muni . cz kopecek ivan ( chair ) e-mail : kopecek @ fi . muni . cz matousek vaclav pala karel smrz pavel staudek jan zackova eva ( principal contact ) e-mail : glum @ fi . muni . cz zizka jan submission of papers abstracts of no more than 500 words [ plain ascii text only , please ] should be submitted to the following e-mail address on or before may 15 , 1998 : glum @ fi . muni . cz submissions should include , in addition to the abstract itself , the name of the author ( s ) , affiliation , address , telephone number , fax number , and e-mail address . electronic submissions will be acknowledged by e-mail , so please contact us if no acknowledgement is received . acceptance of submissions will likewise be notified by e-mail . accepted papers will be published in the proceedings of tsd \\' 98 . authors of abstracts that are accepted will be requested to send their papers in postscript form ( in llncs format ) to the above by e-mail before august 17th . latex word processor is preferred but not required . format instructions ( and llncs latex format ) will be sent to authors together with the notification of acceptance . requests for participation will be processed on a \" first come first served \" basis . important dates friday , may 15 , 1998 . . . . . submissions of abstracts due tuesday , june 30 , 1998 . . . . . notification of acceptance sent to the authors monday , august 17 , 1998 . . . . . final papers ( camera ready ) due wednesday , september 23 , 1998 . . . . . . workshop date fees and costs registration fee : 80 . - usd ( includes proceedings , refreshments , social events and trip ) accommodation and food : double room ( shared with other participant ) : 130 . - usd single room : 190 . - usd the full cost of the workshop will therefore be either 210 , - usd or 270 , - usd , depending on whether accommodation is shared . further details will be announced later . official language the official language of the event will be english , but papers on issues relating to text and speech processing in languages other than english are strongly encouraged . address all correspondence regarding the workshop should be addressed to : dana komarkova faculty of informatics masaryk university botanicka 68a 60200 brno czech republic tel . : + 420 5 41 512 359 fax : e-mail : dkomar @ fi . muni . cz outline of the programme all sessions of the workshop will be plenary ( no parallel sessions ) . the format will consist of paper presentations ( generally 20 minutes ) followed by discussion ( 10 minutes ) . the workshop will also include social events , an excursion to the faculty of informatics , masaryk university brno , and a trip in the vicinity of brno ( the moravian karst , including the beautiful macocha chasm ) . location hotel myslivna , where the workshop will take place , is a comfortable hotel in beautiful woods on a hill near a natural reservation area very close to brno . the surrounding is very quiet and suitable for walks and hiking ( jogging ) routes . brno is the capital of moravia , which is in the south-east part of the czech republic . it is the second-largest town in the czech republic ( with a population of about half a million ) . it had been a royal city since 1347 . there are six universities in brno . historical and artistic places of interest include : - - brno castle ( now called spilberk ) - - veveri castle - - the old and new city halls - - the augustine monastery , with st thomas \\' church and crypt of moravian margraves - - the church of st james - - the \" bishops \\' church \" of st peter & st paul - - the famous villa tugendhadt , designed by mies van der rohe - - many other important examples of czech architecture between the wars ( 1918-38 ) . in the immediate surroundings of brno are the moravian karst . with macocha chasm and punkva caves ; the site of the \" battle of the three emperors \" ( napoleon , alexander of russia , and franz of austria ) , commonly known as the battle of austerlitz ; the chateau of slavkov ( austerlitz ) ; pernstejn castle ; and many other attractions . how to reach brno brno can be reached easily by direct trains from prague , vienna , bratislava , and budapest , or by plane to vienna and then by coach or train ( 130 km ) . another possibility is to go by plane to prague and then travel about 200 km by coach or train . further travel details will be given in future announcements . ivan kopecek kopecek @ fi . muni . cz http : / / www . fi . muni . cz / ~ kopecek /'"
      ]
     },
     "execution_count": 6,
     "metadata": {},
     "output_type": "execute_result"
    }
   ],
   "source": [
    "# read contents of the text  from the first row\n",
    "df['text'][0]"
   ]
  },
  {
   "cell_type": "markdown",
   "metadata": {},
   "source": [
    "### Check for empty cells"
   ]
  },
  {
   "cell_type": "code",
   "execution_count": 7,
   "metadata": {},
   "outputs": [
    {
     "data": {
      "text/plain": [
       "file              0\n",
       "subject           0\n",
       "subject_length    0\n",
       "text              0\n",
       "text_length       0\n",
       "class             0\n",
       "dtype: int64"
      ]
     },
     "execution_count": 7,
     "metadata": {},
     "output_type": "execute_result"
    }
   ],
   "source": [
    "df.isnull().sum()"
   ]
  },
  {
   "cell_type": "markdown",
   "metadata": {},
   "source": [
    "## Load the spacy library"
   ]
  },
  {
   "cell_type": "code",
   "execution_count": 8,
   "metadata": {},
   "outputs": [],
   "source": [
    "nlp = load('en_core_web_sm')"
   ]
  },
  {
   "cell_type": "code",
   "execution_count": 9,
   "metadata": {},
   "outputs": [],
   "source": [
    "doc = nlp(df['text'][2])"
   ]
  },
  {
   "cell_type": "markdown",
   "metadata": {},
   "source": [
    "## Remove Punctuation"
   ]
  },
  {
   "cell_type": "code",
   "execution_count": 10,
   "metadata": {},
   "outputs": [
    {
     "data": {
      "text/plain": [
       "'here \\'s a great directory for free and interesting internet sites ! ! ! visit \" mall direct \" http : / / 209 . 125 . 202 . 59 this is a fabulous list , please save for future reference . - - - - - - - - - - - - - - - - - - - - - - - - - - - - - - - - - - - - - - - - - - - - - - - - - - - - - - - - - - - - - - - - - - to be removed from this list , please enter your e-mail address at http : / / www . remove-list . com - - - - - - - - - - - - - - - - - - - - - - - - - - - - - - - - - - - - - - - - - - - - - - - - - - - - - - - - - - - - - - - - - -'"
      ]
     },
     "execution_count": 10,
     "metadata": {},
     "output_type": "execute_result"
    }
   ],
   "source": [
    "text1 = df['text'][2]\n",
    "text1 \n",
    "#table = str.maketrans('', '', string.punctuation)"
   ]
  },
  {
   "cell_type": "code",
   "execution_count": 11,
   "metadata": {},
   "outputs": [],
   "source": [
    "# Remove punctuation from text  \n",
    "table = str.maketrans('', '', string.punctuation)\n",
    "\n",
    "df['subject_stripped'] = df['subject'].apply(lambda words: \"\".join([w.translate(table) for w in words]).strip())\n",
    "df['text_stripped'] = df['text'].apply(lambda words: \"\".join([w.translate(table) for w in words]).strip())\n"
   ]
  },
  {
   "cell_type": "markdown",
   "metadata": {},
   "source": [
    "## Lemmatize Text "
   ]
  },
  {
   "cell_type": "code",
   "execution_count": 12,
   "metadata": {},
   "outputs": [],
   "source": [
    "df[\"subject_lemmatized\"] = df['subject_stripped'].apply(lambda x: \" \".join([y.lemma_ for y in nlp(x)]))\n",
    "df[\"text_lemmatized\"] = df['text_stripped'].apply(lambda x: \" \".join([y.lemma_ for y in nlp(x)]))"
   ]
  },
  {
   "cell_type": "code",
   "execution_count": 13,
   "metadata": {},
   "outputs": [
    {
     "data": {
      "text/plain": [
       "'summary   vowel deletion between two like consonant'"
      ]
     },
     "execution_count": 13,
     "metadata": {},
     "output_type": "execute_result"
    }
   ],
   "source": [
    "df['subject_lemmatized'][4]"
   ]
  },
  {
   "cell_type": "markdown",
   "metadata": {},
   "source": [
    "## Remove Stop Words"
   ]
  },
  {
   "cell_type": "code",
   "execution_count": 14,
   "metadata": {},
   "outputs": [],
   "source": [
    "def remove_stops(text):\n",
    "    \"\"\"Function to remove most common stop words from text\"\"\"\n",
    "    my_doc = nlp(text)\n",
    "\n",
    "    # create list of token words\n",
    "    token_list= [token.text for token in my_doc]\n",
    "\n",
    "    # return list of word tokens after removing stopwords\n",
    "    return [word for word in token_list if nlp.vocab[word].is_stop == False]\n",
    " "
   ]
  },
  {
   "cell_type": "code",
   "execution_count": 15,
   "metadata": {},
   "outputs": [],
   "source": [
    "df['text_no_stops'] = df['text_lemmatized'].apply(lambda text:\" \".join(remove_stops(text)))\n",
    "df['subject_no_stops'] = df['subject_lemmatized'].apply(lambda text:\" \".join(remove_stops(text)))"
   ]
  },
  {
   "cell_type": "code",
   "execution_count": 16,
   "metadata": {},
   "outputs": [
    {
     "data": {
      "text/html": [
       "<div>\n",
       "<style scoped>\n",
       "    .dataframe tbody tr th:only-of-type {\n",
       "        vertical-align: middle;\n",
       "    }\n",
       "\n",
       "    .dataframe tbody tr th {\n",
       "        vertical-align: top;\n",
       "    }\n",
       "\n",
       "    .dataframe thead th {\n",
       "        text-align: right;\n",
       "    }\n",
       "</style>\n",
       "<table border=\"1\" class=\"dataframe\">\n",
       "  <thead>\n",
       "    <tr style=\"text-align: right;\">\n",
       "      <th></th>\n",
       "      <th>file</th>\n",
       "      <th>subject</th>\n",
       "      <th>subject_length</th>\n",
       "      <th>text</th>\n",
       "      <th>text_length</th>\n",
       "      <th>class</th>\n",
       "      <th>subject_stripped</th>\n",
       "      <th>text_stripped</th>\n",
       "      <th>subject_lemmatized</th>\n",
       "      <th>text_lemmatized</th>\n",
       "      <th>text_no_stops</th>\n",
       "      <th>subject_no_stops</th>\n",
       "    </tr>\n",
       "  </thead>\n",
       "  <tbody>\n",
       "    <tr>\n",
       "      <th>0</th>\n",
       "      <td>9-208msg1.txt</td>\n",
       "      <td>a workshop on text , speech and dialog ( tsd '...</td>\n",
       "      <td>52</td>\n",
       "      <td>first announcement and call for papers a works...</td>\n",
       "      <td>6327</td>\n",
       "      <td>0</td>\n",
       "      <td>a workshop on text  speech and dialog  tsd  98</td>\n",
       "      <td>first announcement and call for papers a works...</td>\n",
       "      <td>a workshop on text   speech and dialog   tsd   98</td>\n",
       "      <td>first announcement and call for paper a worksh...</td>\n",
       "      <td>announcement paper workshop text    speech dia...</td>\n",
       "      <td>workshop text    speech dialog    tsd    98</td>\n",
       "    </tr>\n",
       "    <tr>\n",
       "      <th>1</th>\n",
       "      <td>6-863msg1.txt</td>\n",
       "      <td>re : toc</td>\n",
       "      <td>9</td>\n",
       "      <td>dear colleague , i would like to send you the ...</td>\n",
       "      <td>1265</td>\n",
       "      <td>0</td>\n",
       "      <td>re  toc</td>\n",
       "      <td>dear colleague  i would like to send you the f...</td>\n",
       "      <td>re   toc</td>\n",
       "      <td>dear colleague   i would like to send -PRON- t...</td>\n",
       "      <td>dear colleague    like send -PRON- follow anno...</td>\n",
       "      <td>toc</td>\n",
       "    </tr>\n",
       "    <tr>\n",
       "      <th>2</th>\n",
       "      <td>spmsga152.txt</td>\n",
       "      <td>free internet services &amp; unique shopping</td>\n",
       "      <td>41</td>\n",
       "      <td>here 's a great directory for free and interes...</td>\n",
       "      <td>553</td>\n",
       "      <td>1</td>\n",
       "      <td>free internet services  unique shopping</td>\n",
       "      <td>here s a great directory for free and interest...</td>\n",
       "      <td>free internet service   unique shopping</td>\n",
       "      <td>here s a great directory for free and interest...</td>\n",
       "      <td>s great directory free interesting internet si...</td>\n",
       "      <td>free internet service    unique shopping</td>\n",
       "    </tr>\n",
       "    <tr>\n",
       "      <th>3</th>\n",
       "      <td>6-977msg1.txt</td>\n",
       "      <td>summary</td>\n",
       "      <td>8</td>\n",
       "      <td>dear all , i send you a summary of the answers...</td>\n",
       "      <td>6793</td>\n",
       "      <td>0</td>\n",
       "      <td>summary</td>\n",
       "      <td>dear all  i send you a summary of the answers ...</td>\n",
       "      <td>summary</td>\n",
       "      <td>dear all   i send -PRON- a summary of the answ...</td>\n",
       "      <td>dear    send -PRON- summary answer -PRON- quer...</td>\n",
       "      <td>summary</td>\n",
       "    </tr>\n",
       "    <tr>\n",
       "      <th>4</th>\n",
       "      <td>8-1096msg1.txt</td>\n",
       "      <td>summary : vowel deletion between two like cons...</td>\n",
       "      <td>53</td>\n",
       "      <td>quite some time ago , i wrote requesting infor...</td>\n",
       "      <td>5793</td>\n",
       "      <td>0</td>\n",
       "      <td>summary  vowel deletion between two like conso...</td>\n",
       "      <td>quite some time ago  i wrote requesting inform...</td>\n",
       "      <td>summary   vowel deletion between two like cons...</td>\n",
       "      <td>quite some time ago   i write request informat...</td>\n",
       "      <td>time ago    write request information concern ...</td>\n",
       "      <td>summary    vowel deletion like consonant</td>\n",
       "    </tr>\n",
       "  </tbody>\n",
       "</table>\n",
       "</div>"
      ],
      "text/plain": [
       "             file                                            subject  \\\n",
       "0   9-208msg1.txt  a workshop on text , speech and dialog ( tsd '...   \n",
       "1   6-863msg1.txt                                           re : toc   \n",
       "2   spmsga152.txt           free internet services & unique shopping   \n",
       "3   6-977msg1.txt                                            summary   \n",
       "4  8-1096msg1.txt  summary : vowel deletion between two like cons...   \n",
       "\n",
       "   subject_length                                               text  \\\n",
       "0              52  first announcement and call for papers a works...   \n",
       "1               9  dear colleague , i would like to send you the ...   \n",
       "2              41  here 's a great directory for free and interes...   \n",
       "3               8  dear all , i send you a summary of the answers...   \n",
       "4              53  quite some time ago , i wrote requesting infor...   \n",
       "\n",
       "   text_length  class                                   subject_stripped  \\\n",
       "0         6327      0     a workshop on text  speech and dialog  tsd  98   \n",
       "1         1265      0                                            re  toc   \n",
       "2          553      1            free internet services  unique shopping   \n",
       "3         6793      0                                            summary   \n",
       "4         5793      0  summary  vowel deletion between two like conso...   \n",
       "\n",
       "                                       text_stripped  \\\n",
       "0  first announcement and call for papers a works...   \n",
       "1  dear colleague  i would like to send you the f...   \n",
       "2  here s a great directory for free and interest...   \n",
       "3  dear all  i send you a summary of the answers ...   \n",
       "4  quite some time ago  i wrote requesting inform...   \n",
       "\n",
       "                                  subject_lemmatized  \\\n",
       "0  a workshop on text   speech and dialog   tsd   98   \n",
       "1                                           re   toc   \n",
       "2            free internet service   unique shopping   \n",
       "3                                            summary   \n",
       "4  summary   vowel deletion between two like cons...   \n",
       "\n",
       "                                     text_lemmatized  \\\n",
       "0  first announcement and call for paper a worksh...   \n",
       "1  dear colleague   i would like to send -PRON- t...   \n",
       "2  here s a great directory for free and interest...   \n",
       "3  dear all   i send -PRON- a summary of the answ...   \n",
       "4  quite some time ago   i write request informat...   \n",
       "\n",
       "                                       text_no_stops  \\\n",
       "0  announcement paper workshop text    speech dia...   \n",
       "1  dear colleague    like send -PRON- follow anno...   \n",
       "2  s great directory free interesting internet si...   \n",
       "3  dear    send -PRON- summary answer -PRON- quer...   \n",
       "4  time ago    write request information concern ...   \n",
       "\n",
       "                              subject_no_stops  \n",
       "0  workshop text    speech dialog    tsd    98  \n",
       "1                                          toc  \n",
       "2     free internet service    unique shopping  \n",
       "3                                      summary  \n",
       "4     summary    vowel deletion like consonant  "
      ]
     },
     "execution_count": 16,
     "metadata": {},
     "output_type": "execute_result"
    }
   ],
   "source": [
    "df.head()"
   ]
  },
  {
   "cell_type": "code",
   "execution_count": 17,
   "metadata": {},
   "outputs": [],
   "source": [
    "df.to_csv('emails_lemmatised.csv', index=False)"
   ]
  },
  {
   "cell_type": "markdown",
   "metadata": {},
   "source": [
    "## Topic Modelling"
   ]
  },
  {
   "cell_type": "code",
   "execution_count": 47,
   "metadata": {},
   "outputs": [],
   "source": [
    "cv = CountVectorizer(max_df=0.95, min_df=2,token_pattern='[A-Za-z]*')"
   ]
  },
  {
   "cell_type": "code",
   "execution_count": 48,
   "metadata": {},
   "outputs": [],
   "source": [
    "dtm_text = cv.fit_transform(df['text_no_stops'])"
   ]
  },
  {
   "cell_type": "code",
   "execution_count": 49,
   "metadata": {},
   "outputs": [],
   "source": [
    "LDA = LatentDirichletAllocation(n_components=6,random_state=42)"
   ]
  },
  {
   "cell_type": "code",
   "execution_count": 50,
   "metadata": {},
   "outputs": [
    {
     "data": {
      "text/plain": [
       "LatentDirichletAllocation(batch_size=128, doc_topic_prior=None,\n",
       "             evaluate_every=-1, learning_decay=0.7,\n",
       "             learning_method='batch', learning_offset=10.0,\n",
       "             max_doc_update_iter=100, max_iter=10, mean_change_tol=0.001,\n",
       "             n_components=6, n_jobs=None, n_topics=None, perp_tol=0.1,\n",
       "             random_state=42, topic_word_prior=None,\n",
       "             total_samples=1000000.0, verbose=0)"
      ]
     },
     "execution_count": 50,
     "metadata": {},
     "output_type": "execute_result"
    }
   ],
   "source": [
    "LDA.fit(dtm_text)"
   ]
  },
  {
   "cell_type": "code",
   "execution_count": 51,
   "metadata": {},
   "outputs": [
    {
     "data": {
      "text/plain": [
       "23083"
      ]
     },
     "execution_count": 51,
     "metadata": {},
     "output_type": "execute_result"
    }
   ],
   "source": [
    "len(cv.get_feature_names())"
   ]
  },
  {
   "cell_type": "code",
   "execution_count": 52,
   "metadata": {},
   "outputs": [
    {
     "name": "stdout",
     "output_type": "stream",
     "text": [
      "THE TOP 15 WORDS FOR TOPIC #0\n",
      "['berlin', 'universite', 'fax', 'gruyter', 'pron', 'und', 'du', 'e', 'der', 'les', 'h', 'le', 'benjamin', 'des', 'en', 'd', 'et', 'l', 'la', 'de']\n",
      "\n",
      "\n",
      "THE TOP 15 WORDS FOR TOPIC #1\n",
      "['pp', 'example', 'new', 'e', 'linguist', 'work', 'grammar', 'case', 'study', 'university', 'edu', 'word', 'theory', 'book', 'use', 'english', 's', 'linguistic', 'language', 'pron']\n",
      "\n",
      "\n",
      "THE TOP 15 WORDS FOR TOPIC #2\n",
      "['science', 'email', 'computer', 'speech', 'uk', 'text', 'www', 'include', 'http', 'usa', 'research', 'conference', 'system', 'submission', 'language', 'information', 'university', 'workshop', 'pron', 'paper']\n",
      "\n",
      "\n",
      "THE TOP 15 WORDS FOR TOPIC #3\n",
      "['business', 'good', 'money', 'use', 'free', 'mail', 'work', 'time', 'receive', 'nt', 'people', 'program', 'list', 'send', 'report', 'address', 'order', 'email', 's', 'pron']\n",
      "\n",
      "\n",
      "THE TOP 15 WORDS FOR TOPIC #4\n",
      "['discourse', 'word', 'linguistic', 'p', 'japanese', 'c', 'n', 'v', 'j', 'language', 'g', 'english', 'university', 'h', 'b', 'e', 'm', 's', 'pron', 'd']\n",
      "\n",
      "\n",
      "THE TOP 15 WORDS FOR TOPIC #5\n",
      "['uk', 'workshop', 'th', 'department', 'registration', 'send', 'include', 'information', 's', 'fax', 'session', 'email', 'address', 'abstract', 'paper', 'language', 'conference', 'linguistic', 'pron', 'university']\n",
      "\n",
      "\n"
     ]
    }
   ],
   "source": [
    "# Print out the most common words\n",
    "for index,topic in enumerate(LDA.components_):\n",
    "    print(f'THE TOP 15 WORDS FOR TOPIC #{index}')\n",
    "    print([cv.get_feature_names()[i] for i in topic.argsort()[-20:]])\n",
    "    print('\\n')"
   ]
  },
  {
   "cell_type": "code",
   "execution_count": 53,
   "metadata": {},
   "outputs": [],
   "source": [
    "topic_dict={0:'Academics',\n",
    "           1: 'language',\n",
    "           2:'science',\n",
    "           3: 'money',\n",
    "           4:'money',\n",
    "           5:'administration',    \n",
    "}"
   ]
  },
  {
   "cell_type": "code",
   "execution_count": 54,
   "metadata": {},
   "outputs": [],
   "source": [
    "pickle.dump(LDA,open('lda_model.pk', 'wb'))"
   ]
  },
  {
   "cell_type": "markdown",
   "metadata": {},
   "source": [
    "### Adding Topic to row"
   ]
  },
  {
   "cell_type": "code",
   "execution_count": 55,
   "metadata": {},
   "outputs": [],
   "source": [
    "topic_results = LDA.transform(dtm_text)"
   ]
  },
  {
   "cell_type": "code",
   "execution_count": 56,
   "metadata": {},
   "outputs": [],
   "source": [
    "df['topic_number']= topic_results.argmax(axis=1)"
   ]
  },
  {
   "cell_type": "code",
   "execution_count": 57,
   "metadata": {},
   "outputs": [
    {
     "data": {
      "text/plain": [
       "(2893, 14)"
      ]
     },
     "execution_count": 57,
     "metadata": {},
     "output_type": "execute_result"
    }
   ],
   "source": [
    "df.shape"
   ]
  },
  {
   "cell_type": "code",
   "execution_count": 58,
   "metadata": {},
   "outputs": [
    {
     "data": {
      "text/html": [
       "<div>\n",
       "<style scoped>\n",
       "    .dataframe tbody tr th:only-of-type {\n",
       "        vertical-align: middle;\n",
       "    }\n",
       "\n",
       "    .dataframe tbody tr th {\n",
       "        vertical-align: top;\n",
       "    }\n",
       "\n",
       "    .dataframe thead th {\n",
       "        text-align: right;\n",
       "    }\n",
       "</style>\n",
       "<table border=\"1\" class=\"dataframe\">\n",
       "  <thead>\n",
       "    <tr style=\"text-align: right;\">\n",
       "      <th></th>\n",
       "      <th>file</th>\n",
       "      <th>subject</th>\n",
       "      <th>subject_length</th>\n",
       "      <th>text</th>\n",
       "      <th>text_length</th>\n",
       "      <th>class</th>\n",
       "      <th>subject_stripped</th>\n",
       "      <th>text_stripped</th>\n",
       "      <th>subject_lemmatized</th>\n",
       "      <th>text_lemmatized</th>\n",
       "      <th>text_no_stops</th>\n",
       "      <th>subject_no_stops</th>\n",
       "      <th>topic_number</th>\n",
       "      <th>topic</th>\n",
       "    </tr>\n",
       "  </thead>\n",
       "  <tbody>\n",
       "    <tr>\n",
       "      <th>0</th>\n",
       "      <td>9-208msg1.txt</td>\n",
       "      <td>a workshop on text , speech and dialog ( tsd '...</td>\n",
       "      <td>52</td>\n",
       "      <td>first announcement and call for papers a works...</td>\n",
       "      <td>6327</td>\n",
       "      <td>0</td>\n",
       "      <td>a workshop on text  speech and dialog  tsd  98</td>\n",
       "      <td>first announcement and call for papers a works...</td>\n",
       "      <td>a workshop on text   speech and dialog   tsd   98</td>\n",
       "      <td>first announcement and call for paper a worksh...</td>\n",
       "      <td>announcement paper workshop text    speech dia...</td>\n",
       "      <td>workshop text    speech dialog    tsd    98</td>\n",
       "      <td>2</td>\n",
       "      <td>literature</td>\n",
       "    </tr>\n",
       "    <tr>\n",
       "      <th>1</th>\n",
       "      <td>6-863msg1.txt</td>\n",
       "      <td>re : toc</td>\n",
       "      <td>9</td>\n",
       "      <td>dear colleague , i would like to send you the ...</td>\n",
       "      <td>1265</td>\n",
       "      <td>0</td>\n",
       "      <td>re  toc</td>\n",
       "      <td>dear colleague  i would like to send you the f...</td>\n",
       "      <td>re   toc</td>\n",
       "      <td>dear colleague   i would like to send -PRON- t...</td>\n",
       "      <td>dear colleague    like send -PRON- follow anno...</td>\n",
       "      <td>toc</td>\n",
       "      <td>1</td>\n",
       "      <td>business</td>\n",
       "    </tr>\n",
       "    <tr>\n",
       "      <th>2</th>\n",
       "      <td>spmsga152.txt</td>\n",
       "      <td>free internet services &amp; unique shopping</td>\n",
       "      <td>41</td>\n",
       "      <td>here 's a great directory for free and interes...</td>\n",
       "      <td>553</td>\n",
       "      <td>1</td>\n",
       "      <td>free internet services  unique shopping</td>\n",
       "      <td>here s a great directory for free and interest...</td>\n",
       "      <td>free internet service   unique shopping</td>\n",
       "      <td>here s a great directory for free and interest...</td>\n",
       "      <td>s great directory free interesting internet si...</td>\n",
       "      <td>free internet service    unique shopping</td>\n",
       "      <td>3</td>\n",
       "      <td>education</td>\n",
       "    </tr>\n",
       "    <tr>\n",
       "      <th>3</th>\n",
       "      <td>6-977msg1.txt</td>\n",
       "      <td>summary</td>\n",
       "      <td>8</td>\n",
       "      <td>dear all , i send you a summary of the answers...</td>\n",
       "      <td>6793</td>\n",
       "      <td>0</td>\n",
       "      <td>summary</td>\n",
       "      <td>dear all  i send you a summary of the answers ...</td>\n",
       "      <td>summary</td>\n",
       "      <td>dear all   i send -PRON- a summary of the answ...</td>\n",
       "      <td>dear    send -PRON- summary answer -PRON- quer...</td>\n",
       "      <td>summary</td>\n",
       "      <td>1</td>\n",
       "      <td>web</td>\n",
       "    </tr>\n",
       "    <tr>\n",
       "      <th>4</th>\n",
       "      <td>8-1096msg1.txt</td>\n",
       "      <td>summary : vowel deletion between two like cons...</td>\n",
       "      <td>53</td>\n",
       "      <td>quite some time ago , i wrote requesting infor...</td>\n",
       "      <td>5793</td>\n",
       "      <td>0</td>\n",
       "      <td>summary  vowel deletion between two like conso...</td>\n",
       "      <td>quite some time ago  i wrote requesting inform...</td>\n",
       "      <td>summary   vowel deletion between two like cons...</td>\n",
       "      <td>quite some time ago   i write request informat...</td>\n",
       "      <td>time ago    write request information concern ...</td>\n",
       "      <td>summary    vowel deletion like consonant</td>\n",
       "      <td>1</td>\n",
       "      <td>language</td>\n",
       "    </tr>\n",
       "  </tbody>\n",
       "</table>\n",
       "</div>"
      ],
      "text/plain": [
       "             file                                            subject  \\\n",
       "0   9-208msg1.txt  a workshop on text , speech and dialog ( tsd '...   \n",
       "1   6-863msg1.txt                                           re : toc   \n",
       "2   spmsga152.txt           free internet services & unique shopping   \n",
       "3   6-977msg1.txt                                            summary   \n",
       "4  8-1096msg1.txt  summary : vowel deletion between two like cons...   \n",
       "\n",
       "   subject_length                                               text  \\\n",
       "0              52  first announcement and call for papers a works...   \n",
       "1               9  dear colleague , i would like to send you the ...   \n",
       "2              41  here 's a great directory for free and interes...   \n",
       "3               8  dear all , i send you a summary of the answers...   \n",
       "4              53  quite some time ago , i wrote requesting infor...   \n",
       "\n",
       "   text_length  class                                   subject_stripped  \\\n",
       "0         6327      0     a workshop on text  speech and dialog  tsd  98   \n",
       "1         1265      0                                            re  toc   \n",
       "2          553      1            free internet services  unique shopping   \n",
       "3         6793      0                                            summary   \n",
       "4         5793      0  summary  vowel deletion between two like conso...   \n",
       "\n",
       "                                       text_stripped  \\\n",
       "0  first announcement and call for papers a works...   \n",
       "1  dear colleague  i would like to send you the f...   \n",
       "2  here s a great directory for free and interest...   \n",
       "3  dear all  i send you a summary of the answers ...   \n",
       "4  quite some time ago  i wrote requesting inform...   \n",
       "\n",
       "                                  subject_lemmatized  \\\n",
       "0  a workshop on text   speech and dialog   tsd   98   \n",
       "1                                           re   toc   \n",
       "2            free internet service   unique shopping   \n",
       "3                                            summary   \n",
       "4  summary   vowel deletion between two like cons...   \n",
       "\n",
       "                                     text_lemmatized  \\\n",
       "0  first announcement and call for paper a worksh...   \n",
       "1  dear colleague   i would like to send -PRON- t...   \n",
       "2  here s a great directory for free and interest...   \n",
       "3  dear all   i send -PRON- a summary of the answ...   \n",
       "4  quite some time ago   i write request informat...   \n",
       "\n",
       "                                       text_no_stops  \\\n",
       "0  announcement paper workshop text    speech dia...   \n",
       "1  dear colleague    like send -PRON- follow anno...   \n",
       "2  s great directory free interesting internet si...   \n",
       "3  dear    send -PRON- summary answer -PRON- quer...   \n",
       "4  time ago    write request information concern ...   \n",
       "\n",
       "                              subject_no_stops  topic_number       topic  \n",
       "0  workshop text    speech dialog    tsd    98             2  literature  \n",
       "1                                          toc             1    business  \n",
       "2     free internet service    unique shopping             3   education  \n",
       "3                                      summary             1         web  \n",
       "4     summary    vowel deletion like consonant             1    language  "
      ]
     },
     "execution_count": 58,
     "metadata": {},
     "output_type": "execute_result"
    }
   ],
   "source": [
    "df.head(5)"
   ]
  },
  {
   "cell_type": "code",
   "execution_count": 59,
   "metadata": {},
   "outputs": [],
   "source": [
    "df['topic'] = df['topic_number'].apply(lambda x: topic_dict[x])"
   ]
  },
  {
   "cell_type": "code",
   "execution_count": 60,
   "metadata": {},
   "outputs": [
    {
     "data": {
      "text/html": [
       "<div>\n",
       "<style scoped>\n",
       "    .dataframe tbody tr th:only-of-type {\n",
       "        vertical-align: middle;\n",
       "    }\n",
       "\n",
       "    .dataframe tbody tr th {\n",
       "        vertical-align: top;\n",
       "    }\n",
       "\n",
       "    .dataframe thead th {\n",
       "        text-align: right;\n",
       "    }\n",
       "</style>\n",
       "<table border=\"1\" class=\"dataframe\">\n",
       "  <thead>\n",
       "    <tr style=\"text-align: right;\">\n",
       "      <th></th>\n",
       "      <th>file</th>\n",
       "      <th>subject</th>\n",
       "      <th>subject_length</th>\n",
       "      <th>text</th>\n",
       "      <th>text_length</th>\n",
       "      <th>class</th>\n",
       "      <th>subject_stripped</th>\n",
       "      <th>text_stripped</th>\n",
       "      <th>subject_lemmatized</th>\n",
       "      <th>text_lemmatized</th>\n",
       "      <th>text_no_stops</th>\n",
       "      <th>subject_no_stops</th>\n",
       "      <th>topic_number</th>\n",
       "      <th>topic</th>\n",
       "    </tr>\n",
       "  </thead>\n",
       "  <tbody>\n",
       "    <tr>\n",
       "      <th>0</th>\n",
       "      <td>9-208msg1.txt</td>\n",
       "      <td>a workshop on text , speech and dialog ( tsd '...</td>\n",
       "      <td>52</td>\n",
       "      <td>first announcement and call for papers a works...</td>\n",
       "      <td>6327</td>\n",
       "      <td>0</td>\n",
       "      <td>a workshop on text  speech and dialog  tsd  98</td>\n",
       "      <td>first announcement and call for papers a works...</td>\n",
       "      <td>a workshop on text   speech and dialog   tsd   98</td>\n",
       "      <td>first announcement and call for paper a worksh...</td>\n",
       "      <td>announcement paper workshop text    speech dia...</td>\n",
       "      <td>workshop text    speech dialog    tsd    98</td>\n",
       "      <td>2</td>\n",
       "      <td>science</td>\n",
       "    </tr>\n",
       "    <tr>\n",
       "      <th>1</th>\n",
       "      <td>6-863msg1.txt</td>\n",
       "      <td>re : toc</td>\n",
       "      <td>9</td>\n",
       "      <td>dear colleague , i would like to send you the ...</td>\n",
       "      <td>1265</td>\n",
       "      <td>0</td>\n",
       "      <td>re  toc</td>\n",
       "      <td>dear colleague  i would like to send you the f...</td>\n",
       "      <td>re   toc</td>\n",
       "      <td>dear colleague   i would like to send -PRON- t...</td>\n",
       "      <td>dear colleague    like send -PRON- follow anno...</td>\n",
       "      <td>toc</td>\n",
       "      <td>1</td>\n",
       "      <td>language</td>\n",
       "    </tr>\n",
       "    <tr>\n",
       "      <th>2</th>\n",
       "      <td>spmsga152.txt</td>\n",
       "      <td>free internet services &amp; unique shopping</td>\n",
       "      <td>41</td>\n",
       "      <td>here 's a great directory for free and interes...</td>\n",
       "      <td>553</td>\n",
       "      <td>1</td>\n",
       "      <td>free internet services  unique shopping</td>\n",
       "      <td>here s a great directory for free and interest...</td>\n",
       "      <td>free internet service   unique shopping</td>\n",
       "      <td>here s a great directory for free and interest...</td>\n",
       "      <td>s great directory free interesting internet si...</td>\n",
       "      <td>free internet service    unique shopping</td>\n",
       "      <td>3</td>\n",
       "      <td>money</td>\n",
       "    </tr>\n",
       "    <tr>\n",
       "      <th>3</th>\n",
       "      <td>6-977msg1.txt</td>\n",
       "      <td>summary</td>\n",
       "      <td>8</td>\n",
       "      <td>dear all , i send you a summary of the answers...</td>\n",
       "      <td>6793</td>\n",
       "      <td>0</td>\n",
       "      <td>summary</td>\n",
       "      <td>dear all  i send you a summary of the answers ...</td>\n",
       "      <td>summary</td>\n",
       "      <td>dear all   i send -PRON- a summary of the answ...</td>\n",
       "      <td>dear    send -PRON- summary answer -PRON- quer...</td>\n",
       "      <td>summary</td>\n",
       "      <td>1</td>\n",
       "      <td>language</td>\n",
       "    </tr>\n",
       "    <tr>\n",
       "      <th>4</th>\n",
       "      <td>8-1096msg1.txt</td>\n",
       "      <td>summary : vowel deletion between two like cons...</td>\n",
       "      <td>53</td>\n",
       "      <td>quite some time ago , i wrote requesting infor...</td>\n",
       "      <td>5793</td>\n",
       "      <td>0</td>\n",
       "      <td>summary  vowel deletion between two like conso...</td>\n",
       "      <td>quite some time ago  i wrote requesting inform...</td>\n",
       "      <td>summary   vowel deletion between two like cons...</td>\n",
       "      <td>quite some time ago   i write request informat...</td>\n",
       "      <td>time ago    write request information concern ...</td>\n",
       "      <td>summary    vowel deletion like consonant</td>\n",
       "      <td>1</td>\n",
       "      <td>language</td>\n",
       "    </tr>\n",
       "  </tbody>\n",
       "</table>\n",
       "</div>"
      ],
      "text/plain": [
       "             file                                            subject  \\\n",
       "0   9-208msg1.txt  a workshop on text , speech and dialog ( tsd '...   \n",
       "1   6-863msg1.txt                                           re : toc   \n",
       "2   spmsga152.txt           free internet services & unique shopping   \n",
       "3   6-977msg1.txt                                            summary   \n",
       "4  8-1096msg1.txt  summary : vowel deletion between two like cons...   \n",
       "\n",
       "   subject_length                                               text  \\\n",
       "0              52  first announcement and call for papers a works...   \n",
       "1               9  dear colleague , i would like to send you the ...   \n",
       "2              41  here 's a great directory for free and interes...   \n",
       "3               8  dear all , i send you a summary of the answers...   \n",
       "4              53  quite some time ago , i wrote requesting infor...   \n",
       "\n",
       "   text_length  class                                   subject_stripped  \\\n",
       "0         6327      0     a workshop on text  speech and dialog  tsd  98   \n",
       "1         1265      0                                            re  toc   \n",
       "2          553      1            free internet services  unique shopping   \n",
       "3         6793      0                                            summary   \n",
       "4         5793      0  summary  vowel deletion between two like conso...   \n",
       "\n",
       "                                       text_stripped  \\\n",
       "0  first announcement and call for papers a works...   \n",
       "1  dear colleague  i would like to send you the f...   \n",
       "2  here s a great directory for free and interest...   \n",
       "3  dear all  i send you a summary of the answers ...   \n",
       "4  quite some time ago  i wrote requesting inform...   \n",
       "\n",
       "                                  subject_lemmatized  \\\n",
       "0  a workshop on text   speech and dialog   tsd   98   \n",
       "1                                           re   toc   \n",
       "2            free internet service   unique shopping   \n",
       "3                                            summary   \n",
       "4  summary   vowel deletion between two like cons...   \n",
       "\n",
       "                                     text_lemmatized  \\\n",
       "0  first announcement and call for paper a worksh...   \n",
       "1  dear colleague   i would like to send -PRON- t...   \n",
       "2  here s a great directory for free and interest...   \n",
       "3  dear all   i send -PRON- a summary of the answ...   \n",
       "4  quite some time ago   i write request informat...   \n",
       "\n",
       "                                       text_no_stops  \\\n",
       "0  announcement paper workshop text    speech dia...   \n",
       "1  dear colleague    like send -PRON- follow anno...   \n",
       "2  s great directory free interesting internet si...   \n",
       "3  dear    send -PRON- summary answer -PRON- quer...   \n",
       "4  time ago    write request information concern ...   \n",
       "\n",
       "                              subject_no_stops  topic_number     topic  \n",
       "0  workshop text    speech dialog    tsd    98             2   science  \n",
       "1                                          toc             1  language  \n",
       "2     free internet service    unique shopping             3     money  \n",
       "3                                      summary             1  language  \n",
       "4     summary    vowel deletion like consonant             1  language  "
      ]
     },
     "execution_count": 60,
     "metadata": {},
     "output_type": "execute_result"
    }
   ],
   "source": [
    "df.head(5)"
   ]
  },
  {
   "cell_type": "code",
   "execution_count": 67,
   "metadata": {},
   "outputs": [],
   "source": [
    "df.to_csv('emails_cleaned.csv', index=False)"
   ]
  },
  {
   "cell_type": "markdown",
   "metadata": {},
   "source": [
    "# Analysis and Vizualisation of Data"
   ]
  },
  {
   "cell_type": "markdown",
   "metadata": {},
   "source": [
    "### Spam vs Ham"
   ]
  },
  {
   "cell_type": "code",
   "execution_count": 61,
   "metadata": {},
   "outputs": [
    {
     "data": {
      "text/plain": [
       "Text(0.5, 1.0, 'Count of Class')"
      ]
     },
     "execution_count": 61,
     "metadata": {},
     "output_type": "execute_result"
    },
    {
     "data": {
      "image/png": "[encoded data removed]",
      "text/plain": [
       "<Figure size 504x432 with 1 Axes>"
      ]
     },
     "metadata": {
      "needs_background": "light"
     },
     "output_type": "display_data"
    }
   ],
   "source": [
    "df['class'].value_counts().plot(kind='bar',figsize=(7, 6))\n",
    "plt.xlabel(\"Class\")\n",
    "plt.ylabel(\"Class Count\")\n",
    "plt.title(\"Count of Class\")"
   ]
  },
  {
   "cell_type": "markdown",
   "metadata": {},
   "source": [
    "The above graph shows that there is a large difference in the number of spam and ham emails with a large majority of the emails being ham. This may lead to a majority bias due to the inbalanced data. Test should be conducted to assess whethere this hypothesis is true and if so methods should be considered to alleviate this imbalance."
   ]
  },
  {
   "cell_type": "markdown",
   "metadata": {},
   "source": [
    "### Topic of Text"
   ]
  },
  {
   "cell_type": "code",
   "execution_count": 62,
   "metadata": {},
   "outputs": [
    {
     "data": {
      "text/plain": [
       "Text(0.5, 1.0, 'Count of Topics')"
      ]
     },
     "execution_count": 62,
     "metadata": {},
     "output_type": "execute_result"
    },
    {
     "data": {
      "image/png": "[encoded data removed]",
      "text/plain": [
       "<Figure size 504x432 with 1 Axes>"
      ]
     },
     "metadata": {
      "needs_background": "light"
     },
     "output_type": "display_data"
    }
   ],
   "source": [
    "df['topic'].value_counts().plot(kind='bar',figsize=(7, 6))\n",
    "plt.xlabel(\"Topic\")\n",
    "plt.ylabel(\"Topic Count\")\n",
    "plt.title(\"Count of Topics\")"
   ]
  },
  {
   "cell_type": "markdown",
   "metadata": {},
   "source": [
    "The syntax topic appeare the most while the web topic appears the least commonly. This graph can be seen as an example of Paretos law where by the first topic appears more commonly then when combining the least common features."
   ]
  },
  {
   "cell_type": "code",
   "execution_count": 63,
   "metadata": {},
   "outputs": [
    {
     "data": {
      "text/plain": [
       "language          1067\n",
       "administration     638\n",
       "science            330\n",
       "money              247\n",
       "Academics          130\n",
       "Name: topic, dtype: int64"
      ]
     },
     "execution_count": 63,
     "metadata": {},
     "output_type": "execute_result"
    }
   ],
   "source": [
    "df.topic[df['class']==0].value_counts()"
   ]
  },
  {
   "cell_type": "code",
   "execution_count": 64,
   "metadata": {},
   "outputs": [
    {
     "data": {
      "text/plain": [
       "money             477\n",
       "language            2\n",
       "science             1\n",
       "administration      1\n",
       "Name: topic, dtype: int64"
      ]
     },
     "execution_count": 64,
     "metadata": {},
     "output_type": "execute_result"
    }
   ],
   "source": [
    "df.topic[df['class']==1].value_counts()"
   ]
  },
  {
   "cell_type": "code",
   "execution_count": 65,
   "metadata": {},
   "outputs": [
    {
     "data": {
      "text/plain": [
       "Text(0.5, 1.0, 'Count of Topics')"
      ]
     },
     "execution_count": 65,
     "metadata": {},
     "output_type": "execute_result"
    },
    {
     "data": {
      "image/png": "[encoded data removed]",
      "text/plain": [
       "<Figure size 504x432 with 1 Axes>"
      ]
     },
     "metadata": {
      "needs_background": "light"
     },
     "output_type": "display_data"
    }
   ],
   "source": [
    "df.topic[df['class']==0].value_counts().plot(kind='bar',figsize=(7, 6))\n",
    "#df.topic[df['class']==1].value_counts().plot(kind='bar',figsize=(7, 6))\n",
    "plt.xlabel(\"Topic\")\n",
    "plt.ylabel(\"Topic Count\")\n",
    "plt.title(\"Count of Topics\")"
   ]
  },
  {
   "cell_type": "code",
   "execution_count": 66,
   "metadata": {},
   "outputs": [
    {
     "data": {
      "text/plain": [
       "Text(0.5, 1.0, 'Count of Topics')"
      ]
     },
     "execution_count": 66,
     "metadata": {},
     "output_type": "execute_result"
    },
    {
     "data": {
      "image/png": "[encoded data removed]",
      "text/plain": [
       "<Figure size 504x432 with 1 Axes>"
      ]
     },
     "metadata": {
      "needs_background": "light"
     },
     "output_type": "display_data"
    }
   ],
   "source": [
    "#df.topic[df['class']==0].value_counts().plot(kind='bar',figsize=(7, 6))\n",
    "df.topic[df['class']==1].value_counts().plot(kind='bar',figsize=(7, 6))\n",
    "plt.xlabel(\"Topic\")\n",
    "plt.ylabel(\"Topic Count\")\n",
    "plt.title(\"Count of Topics\")"
   ]
  },
  {
   "cell_type": "code",
   "execution_count": null,
   "metadata": {},
   "outputs": [],
   "source": []
  },
  {
   "cell_type": "code",
   "execution_count": null,
   "metadata": {},
   "outputs": [],
   "source": []
  },
  {
   "cell_type": "code",
   "execution_count": null,
   "metadata": {},
   "outputs": [],
   "source": []
  },
  {
   "cell_type": "code",
   "execution_count": null,
   "metadata": {},
   "outputs": [],
   "source": []
  }
 ],
 "metadata": {
  "kernelspec": {
   "display_name": "Python 3",
   "language": "python",
   "name": "python3"
  },
  "language_info": {
   "codemirror_mode": {
    "name": "ipython",
    "version": 3
   },
   "file_extension": ".py",
   "mimetype": "text/x-python",
   "name": "python",
   "nbconvert_exporter": "python",
   "pygments_lexer": "ipython3",
   "version": "3.7.9"
  }
 },
 "nbformat": 4,
 "nbformat_minor": 4
}